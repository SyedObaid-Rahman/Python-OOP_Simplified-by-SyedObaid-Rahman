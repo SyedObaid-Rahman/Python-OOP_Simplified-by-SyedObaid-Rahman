{
  "nbformat": 4,
  "nbformat_minor": 0,
  "metadata": {
    "colab": {
      "name": "Python OOP shortNotes.ipynb",
      "provenance": [],
      "collapsed_sections": [
        "IHo3D1TE5HBP",
        "ffbKe-0a4yLK",
        "GoJAxAMA5ePP",
        "OZqyBH62zp33",
        "CUAvFaeT01vn",
        "pnmPnAYq0QxP",
        "LubQ92l6ycA2",
        "JVxqPftMyjTo",
        "t7X482Mw1a1V",
        "nvmrUQRu2cId",
        "CJp04VAt6cB0",
        "iXNfD6E-v4AZ",
        "0uybHwHb0ZMC",
        "oWjUi0LG0oYB",
        "gyWRzY2atVv-",
        "L_I_ykbjzvlg",
        "MVJFl0-WzldU"
      ]
    },
    "kernelspec": {
      "name": "python3",
      "display_name": "Python 3"
    },
    "language_info": {
      "name": "python"
    }
  },
  "cells": [
    {
      "cell_type": "markdown",
      "source": [
        "#**Python OOP simplified**!\n",
        "###Creator:Syed Obaid Rahman\n",
        "\n",
        "**required CSV named X.csv** "
      ],
      "metadata": {
        "id": "8bacvVRHwJTO"
      }
    },
    {
      "cell_type": "code",
      "source": [
        "import pandas as pd\n",
        "\n",
        "#value\n",
        "\"\"\"Name\tPrice\tQuantity\n",
        "phone\t100\t1\n",
        "laptop\t1000\t3\n",
        "cable\t10\t5\n",
        "mouse\t50\t5\n",
        "keyboard\t75\t5\"\"\"\n",
        "\n",
        "df = pd.DataFrame({'name': ['phone', 'laptop','cable', 'mouse',\"keyboard\"],\n",
        "                   'Price': ['100', '1000','10', '50',\"75\"],\n",
        "                   'Quantity': ['1', '3','5', '5','5']})\n",
        "df.to_csv('X.csv',index=False)"
      ],
      "metadata": {
        "id": "dwe8AmL02TbQ"
      },
      "execution_count": 72,
      "outputs": []
    },
    {
      "cell_type": "code",
      "source": [
        "print(\"hello\")"
      ],
      "metadata": {
        "id": "3CaLWTMwGGwr",
        "colab": {
          "base_uri": "https://localhost:8080/"
        },
        "outputId": "455f04b2-4e92-45e1-f9a1-74d333e85199"
      },
      "execution_count": 73,
      "outputs": [
        {
          "output_type": "stream",
          "name": "stdout",
          "text": [
            "hello\n"
          ]
        }
      ]
    },
    {
      "cell_type": "code",
      "source": [
        "for i in range(0,10):\n",
        "  print(i)"
      ],
      "metadata": {
        "id": "X6oor0DKHCJW",
        "colab": {
          "base_uri": "https://localhost:8080/"
        },
        "outputId": "8320944c-b198-4a78-e56a-0bd2a24008a5"
      },
      "execution_count": 74,
      "outputs": [
        {
          "output_type": "stream",
          "name": "stdout",
          "text": [
            "0\n",
            "1\n",
            "2\n",
            "3\n",
            "4\n",
            "5\n",
            "6\n",
            "7\n",
            "8\n",
            "9\n"
          ]
        }
      ]
    },
    {
      "cell_type": "markdown",
      "source": [
        "**OBJECT AND CLASS**"
      ],
      "metadata": {
        "id": "ITaaCbHAwqXe"
      }
    },
    {
      "cell_type": "markdown",
      "source": [
        "##Basic class and object\n",
        "\n",
        "Object instantiate as instance of the class or object creation"
      ],
      "metadata": {
        "id": "IHo3D1TE5HBP"
      }
    },
    {
      "cell_type": "code",
      "source": [
        "class MyClass:\n",
        "  # python passes the object itsest as first arg when u call this methods\n",
        "  #function inside a class area called methods\n",
        "  def mycalculator(self,x,y):\n",
        "      return x*y\n",
        "\n",
        "\n",
        "#This is equilivant  of creation an intance of a class named as \"MyClass\"\n",
        "newInstance = MyClass()\n",
        "newInstance.newAttribute1 = \"some value1\"\n",
        "newInstance.newAttribute2 = 2\n",
        "newInstance.newAttribute3 = 3\n",
        "\n",
        "result=newInstance.mycalculator(newInstance.newAttribute2,newInstance.newAttribute3)\n",
        "print(\"The result is:\",result)"
      ],
      "metadata": {
        "colab": {
          "base_uri": "https://localhost:8080/"
        },
        "id": "M9EMdl53wuRt",
        "outputId": "4247be06-41f9-4e84-933e-263347b75c46"
      },
      "execution_count": 75,
      "outputs": [
        {
          "output_type": "stream",
          "name": "stdout",
          "text": [
            "The result is: 6\n"
          ]
        }
      ]
    },
    {
      "cell_type": "markdown",
      "source": [
        "##Creating complete object with a default consturctor \"\" __init__"
      ],
      "metadata": {
        "id": "ffbKe-0a4yLK"
      }
    },
    {
      "cell_type": "code",
      "source": [
        "class MyClass:\n",
        "  def __init__(self): #a constructor that run automatically everytime when an intsance of class get created.\n",
        "      print(\"i am created!\")\n",
        "  # python passes the object itsest as first arg when u call this methods\n",
        "  #function inside a class area called methods\n",
        "  def mycalculator(self,x,y):\n",
        "      return x*y\n",
        "\n",
        "\n",
        "#This is equilivant  of creation an intance of a class named as \"MyClass\"\n",
        "newInstance = MyClass()\n",
        "newInstance.newAttribute1 = \"some value1\"\n",
        "newInstance.newAttribute2 = 2\n",
        "newInstance.newAttribute3 = 3\n",
        "\n",
        "newInstance2 = MyClass()\n",
        "newInstance2.newAttribute1 = \"some value1\"\n",
        "newInstance2.newAttribute2 = 2\n",
        "newInstance2.newAttribute3 = 3\n",
        "\n",
        "result=newInstance.mycalculator(newInstance.newAttribute2,newInstance.newAttribute3)\n",
        "print(\"The result is:\",result)"
      ],
      "metadata": {
        "colab": {
          "base_uri": "https://localhost:8080/"
        },
        "id": "735dHi5T1RyS",
        "outputId": "cb4e7c91-8404-4afb-ec56-84256743da5e"
      },
      "execution_count": 76,
      "outputs": [
        {
          "output_type": "stream",
          "name": "stdout",
          "text": [
            "i am created!\n",
            "i am created!\n",
            "The result is: 6\n"
          ]
        }
      ]
    },
    {
      "cell_type": "markdown",
      "source": [
        "##Creating Dynamic object'attributes in a class with a default consturctor \" __init__\""
      ],
      "metadata": {
        "id": "GoJAxAMA5ePP"
      }
    },
    {
      "cell_type": "code",
      "source": [
        "class MyClass:\n",
        "  def __init__(self,name,price,quantity): #a constructor that run automatically everytime when an intsance of class get created.\n",
        "      self.xyzname = name\n",
        "      self.price = price\n",
        "      self.quantity = quantity\n",
        "  # python passes the object itsest as first arg when u call this methods\n",
        "  #function inside a class area called methods\n",
        "  def mycalculator(self,x,y):\n",
        "      return x*y\n",
        "\n",
        "\n",
        "#This is equilivant  of creation an intance of a class named as \"MyClass\"\n",
        "\n",
        "newInstance = MyClass(\"some value1\",100,5)\n",
        "\n",
        "newInstance2 = MyClass(\"some value2\",1000,99)\n",
        "\n",
        "\n",
        "print('object1')\n",
        "print(newInstance.xyzname)\n",
        "print(newInstance.price)\n",
        "print(newInstance.quantity)\n",
        "\n",
        "print('object2')\n",
        "print(newInstance2.xyzname)\n",
        "print(newInstance2.price)\n",
        "print(newInstance2.quantity)\n"
      ],
      "metadata": {
        "colab": {
          "base_uri": "https://localhost:8080/"
        },
        "id": "tOQPjfl08gSn",
        "outputId": "03b2d0ca-34ef-4187-bcd4-f553bbc185de"
      },
      "execution_count": 77,
      "outputs": [
        {
          "output_type": "stream",
          "name": "stdout",
          "text": [
            "object1\n",
            "some value1\n",
            "100\n",
            "5\n",
            "object2\n",
            "some value2\n",
            "1000\n",
            "99\n"
          ]
        }
      ]
    },
    {
      "cell_type": "markdown",
      "source": [
        "##Default Parameter's value for a '__init__' constructor in a class"
      ],
      "metadata": {
        "id": "OZqyBH62zp33"
      }
    },
    {
      "cell_type": "code",
      "source": [
        "class MyClass:\n",
        "  def __init__(self,name,price,quantity=0): #a constructor that run automatically everytime when an intsance of class get created.\n",
        "      self.xyzname = name\n",
        "      self.price = price\n",
        "      self.quantity = quantity\n",
        "  # python passes the object itsest as first arg when u call this methods\n",
        "  #function inside a class area called methods\n",
        "  def mycalculator(self,x,y):\n",
        "      return x*y\n",
        "\n",
        "\n",
        "#This is equilivant  of creation an intance of a class named as \"MyClass\"\n",
        "\n",
        "newInstance = MyClass(\"some value1\",100,5)\n",
        "\n",
        "newInstance2 = MyClass(\"some value2\",1000)\n",
        "\n",
        "\n",
        "print('object1')\n",
        "print(newInstance.xyzname)\n",
        "print(newInstance.price)\n",
        "print(newInstance.quantity)\n",
        "\n",
        "print('object2')\n",
        "print(newInstance2.xyzname)\n",
        "print(newInstance2.price)\n",
        "print(newInstance2.quantity)\n"
      ],
      "metadata": {
        "colab": {
          "base_uri": "https://localhost:8080/"
        },
        "id": "NsINxN4-zlN_",
        "outputId": "19e9712e-d82b-486b-f77b-42d0f22bd702"
      },
      "execution_count": 78,
      "outputs": [
        {
          "output_type": "stream",
          "name": "stdout",
          "text": [
            "object1\n",
            "some value1\n",
            "100\n",
            "5\n",
            "object2\n",
            "some value2\n",
            "1000\n",
            "0\n"
          ]
        }
      ]
    },
    {
      "cell_type": "markdown",
      "source": [
        "##Assign attribute to specific instances after instantiation of that instance or object"
      ],
      "metadata": {
        "id": "CUAvFaeT01vn"
      }
    },
    {
      "cell_type": "code",
      "source": [
        ""
      ],
      "metadata": {
        "id": "bjTFbevX1YAG"
      },
      "execution_count": 78,
      "outputs": []
    },
    {
      "cell_type": "markdown",
      "source": [
        "##Assigning DATA type in a constructor"
      ],
      "metadata": {
        "id": "pnmPnAYq0QxP"
      }
    },
    {
      "cell_type": "code",
      "source": [
        "class MyClass:\n",
        "  def __init__(self,xyzname,price,quantity=0): #a constructor that run automatically everytime when an intsance of class get created.\n",
        "      self.name= xyzname \n",
        "      self.price = price\n",
        "      self.quantity = quantity\n",
        "  # python passes the object or the instance itselt as first arg when u call this methods\n",
        "  #function inside a class area called methods\n",
        "  def mycalculator(self,x,y):\n",
        "      return x*y\n",
        "\n",
        "\n",
        "#This is equilivant  of creation an intance of a class named as \"MyClass\"\n",
        "\n",
        "newInstance = MyClass(\"some value1\",100,5)\n",
        "\n",
        "newInstance2 = MyClass(\"some value2\",1000)\n",
        "\n",
        "\n",
        "print('object1')\n",
        "print(newInstance.name)\n",
        "print(newInstance.price)\n",
        "print(newInstance.quantity)\n",
        "\n",
        "print('object2')\n",
        "print(newInstance2.name)\n",
        "print(newInstance2.price)\n",
        "print(newInstance2.quantity)\n"
      ],
      "metadata": {
        "colab": {
          "base_uri": "https://localhost:8080/"
        },
        "outputId": "b431be88-0ca1-4f64-db50-c77af2a21426",
        "id": "ty2ogiBA0P9G"
      },
      "execution_count": 79,
      "outputs": [
        {
          "output_type": "stream",
          "name": "stdout",
          "text": [
            "object1\n",
            "some value1\n",
            "100\n",
            "5\n",
            "object2\n",
            "some value2\n",
            "1000\n",
            "0\n"
          ]
        }
      ]
    },
    {
      "cell_type": "markdown",
      "source": [
        "##Configuring a Method in a class"
      ],
      "metadata": {
        "id": "LubQ92l6ycA2"
      }
    },
    {
      "cell_type": "code",
      "source": [
        "class MyClass:\n",
        "  def __init__(self,xyzname,price,quantity=0): #a constructor that run automatically everytime when an intsance of class get created.\n",
        "      self.name= xyzname \n",
        "      self.price = price\n",
        "      self.quantity = quantity\n",
        "  # python passes the object or the instance itselt as first arg when u call this methods\n",
        "  #function inside a class area called methods\n",
        "  def mycalculator(self):\n",
        "      return self.price*self.quantity\n",
        "\n",
        "\n",
        "#This is equilivant  of creation an intance of a class named as \"MyClass\"\n",
        "\n",
        "newInstance = MyClass(\"some value1\",100,5)\n",
        "\n",
        "newInstance2 = MyClass(\"some value2\",1000,1)\n",
        "\n",
        "\n",
        "\"\"\"print('object1')\n",
        "print(newInstance.name)\n",
        "print(newInstance.price)\n",
        "print(newInstance.quantity)\n",
        "\n",
        "print('object2')\n",
        "print(newInstance2.name)\n",
        "print(newInstance2.price)\n",
        "print(newInstance2.quantity)\"\"\"\n",
        "\n",
        "print(newInstance.mycalculator())\n",
        "print(newInstance2.mycalculator())\n",
        "\n"
      ],
      "metadata": {
        "colab": {
          "base_uri": "https://localhost:8080/"
        },
        "id": "iR6oJHvNw_Xm",
        "outputId": "5eae0c76-0b49-4db3-d298-0898e3daf952"
      },
      "execution_count": 80,
      "outputs": [
        {
          "output_type": "stream",
          "name": "stdout",
          "text": [
            "500\n",
            "1000\n"
          ]
        }
      ]
    },
    {
      "cell_type": "markdown",
      "source": [
        "##Defining constrains for the Constructor in \"__init__\""
      ],
      "metadata": {
        "id": "JVxqPftMyjTo"
      }
    },
    {
      "cell_type": "code",
      "source": [
        "class MyClass:\n",
        "  def __init__(self, xyzname: str, price: float,quantity=0): #a constructor that run automatically everytime when an intsance of class get created.\n",
        "      \n",
        "      #Run validation to received argument\n",
        "      assert price >=0,f\"price {price} is not greater than equal to zero!!\"\n",
        "      assert quantity >=0,f\"price {quantity} is not greater than or equal to zero!!\"\n",
        "      \n",
        "      #assigning to self object\n",
        "      self.name= xyzname \n",
        "      self.price = price\n",
        "      self.quantity = quantity\n",
        "  # python passes the object or the instance itselt as first arg when u call this methods\n",
        "  #function inside a class area called methods\n",
        "  def mycalculator(self):\n",
        "      return self.price*self.quantity\n",
        "\n",
        "\n",
        "#This is equilivant  of creation an intance of a class named as \"MyClass\"\n",
        "\n",
        "newInstance = MyClass(\"some value1\",100,5)\n",
        "newInstance2 = MyClass(\"some value2\",1000,1)\n",
        "\n",
        "print(newInstance.mycalculator())\n",
        "print(newInstance2.mycalculator())"
      ],
      "metadata": {
        "colab": {
          "base_uri": "https://localhost:8080/"
        },
        "id": "Wbfmd4Uby4x4",
        "outputId": "688866b4-3b92-4f6e-8c2d-16482474e565"
      },
      "execution_count": 81,
      "outputs": [
        {
          "output_type": "stream",
          "name": "stdout",
          "text": [
            "500\n",
            "1000\n"
          ]
        }
      ]
    },
    {
      "cell_type": "markdown",
      "source": [
        "##Global attribute or shared across instances, called \n",
        "#\"class attribute\""
      ],
      "metadata": {
        "id": "t7X482Mw1a1V"
      }
    },
    {
      "cell_type": "code",
      "source": [
        " \"\"\"\n",
        " A class attribute that is going to belong to a class itself,\n",
        " but however ,we can also access this attribute from the \n",
        " instance level as well\n",
        "\"\"\"\n",
        "class MyClass:\n",
        "\n",
        "  #Global attribute creation.\n",
        "  pay_rate=0.8  # This is a class attribute always  create it in first line afterward below class keyword\n",
        "\n",
        "  def __init__(self, xyzname: str, price: float,quantity=0): #a constructor that run automatically everytime when an intsance of class get created.\n",
        "      #Run validation to received argument\n",
        "      assert price >=0,f\"price {price} is not greater than equal to zero!!\"\n",
        "      assert quantity >=0,f\"price {quantity} is not greater than or equal to zero!!\"\n",
        "      \n",
        "      #assigning to self object\n",
        "      self.name= xyzname \n",
        "      self.price = price\n",
        "      self.quantity = quantity\n",
        "  # python passes the object or the instance itselt as first arg when u call this methods\n",
        "  #function inside a class area called methods\n",
        "  def mycalculator(self):\n",
        "      return self.price*self.quantity\n",
        "\n",
        "\n",
        "#This is equilivant  of creation an intance of a class named as \"MyClass\"\n",
        "\n",
        "newInstance = MyClass(\"some value1\",100,5)\n",
        "newInstance2 = MyClass(\"some value2\",1000,1)\n",
        "\n",
        "print(newInstance.mycalculator())\n",
        "print(newInstance2.mycalculator())\n",
        "\n",
        "print(\"This is from class attribute:\",MyClass.pay_rate)\n",
        "print(\"This is from an instance even tho it doesnot have this attribute,\\nit brings it from class lv :\",newInstance.pay_rate)\n",
        "print(\"This is\")\n",
        "\n",
        "#Shows attributes of the class and instance\n",
        "\n",
        "print(MyClass.__dict__) #Gives back all the attribute that are belong to the class lv\n",
        "print(newInstance.__dict__)#Gives back all the attribute that are belong to the instance lv"
      ],
      "metadata": {
        "colab": {
          "base_uri": "https://localhost:8080/"
        },
        "id": "h0OXlHhQ1ced",
        "outputId": "991ffde7-15c3-4088-b005-ad6e82d900b4"
      },
      "execution_count": 82,
      "outputs": [
        {
          "output_type": "stream",
          "name": "stdout",
          "text": [
            "500\n",
            "1000\n",
            "This is from class attribute: 0.8\n",
            "This is from an instance even tho it doesnot have this attribute,\n",
            "it brings it from class lv : 0.8\n",
            "This is\n",
            "{'__module__': '__main__', 'pay_rate': 0.8, '__init__': <function MyClass.__init__ at 0x7fb9ade4fb90>, 'mycalculator': <function MyClass.mycalculator at 0x7fb9ade4f200>, '__dict__': <attribute '__dict__' of 'MyClass' objects>, '__weakref__': <attribute '__weakref__' of 'MyClass' objects>, '__doc__': None}\n",
            "{'name': 'some value1', 'price': 100, 'quantity': 5}\n"
          ]
        }
      ]
    },
    {
      "cell_type": "markdown",
      "source": [
        "##Overwriting an Instance's attribute"
      ],
      "metadata": {
        "id": "nvmrUQRu2cId"
      }
    },
    {
      "cell_type": "code",
      "source": [
        " \"\"\"\n",
        " A class attribute that is going to belong to a class itself,\n",
        " but however ,we can also access this attribute from the \n",
        " instance level only!!\n",
        "\"\"\"\n",
        "class MyClass:\n",
        "\n",
        "  #Global attribute creation.\n",
        "  pay_rate=0.8  # This is a class attribute always  create it in first line afterward below class keyword\n",
        "\n",
        "  def __init__(self, xyzname: str, price: float,quantity=0): #a constructor that run automatically everytime when an intsance of class get created.\n",
        "      #Run validation to received argument\n",
        "      assert price >=0,f\"price {price} is not greater than equal to zero!!\"\n",
        "      assert quantity >=0,f\"price {quantity} is not greater than or equal to zero!!\"\n",
        "      \n",
        "      #assigning to self object\n",
        "      self.name= xyzname \n",
        "      self.price = price\n",
        "      self.quantity = quantity\n",
        "  # python passes the object or the instance itselt as first arg when u call this methods\n",
        "  \n",
        "  #function inside a class area called methods\n",
        "  def mycalculator(self):\n",
        "      return self.price*self.quantity\n",
        "\n",
        "  \n",
        "  def apply_discount(self):\n",
        "    self.price=self.price * self.pay_rate ##overwrited an instace's atribute\n",
        "\n",
        "\n",
        "#This is equilivant  of creation an intance of a class named as \"MyClass\"\n",
        "\n",
        "newInstance = MyClass(\"some value1\",100,1)\n",
        "#newInstance2 = MyClass(\"some value2\",1000,1)\n",
        "\n",
        "newInstance.apply_discount()\n",
        "print(newInstance.price)"
      ],
      "metadata": {
        "colab": {
          "base_uri": "https://localhost:8080/"
        },
        "id": "ZGaWz2XC2WiH",
        "outputId": "cfcc17ea-4fe2-4672-99fe-71d815c13915"
      },
      "execution_count": 83,
      "outputs": [
        {
          "output_type": "stream",
          "name": "stdout",
          "text": [
            "80.0\n"
          ]
        }
      ]
    },
    {
      "cell_type": "markdown",
      "source": [
        "##Overwriting an Class's attribute"
      ],
      "metadata": {
        "id": "CJp04VAt6cB0"
      }
    },
    {
      "cell_type": "code",
      "source": [
        " \"\"\"\n",
        " A class attribute that is going to belong to a class itself,\n",
        " but however ,we can also access this attribute from the \n",
        " instance level only!!\n",
        "\"\"\"\n",
        "class MyClass:\n",
        "\n",
        "  #Global attribute creation.\n",
        "  pay_rate=0.8  # This is a class attribute always  create it in first line afterward below class keyword\n",
        "\n",
        "  def __init__(self, xyzname: str, price: float,quantity=0): #a constructor that run automatically everytime when an intsance of class get created.\n",
        "      #Run validation to received argument\n",
        "      assert price >=0,f\"price {price} is not greater than equal to zero!!\"\n",
        "      assert quantity >=0,f\"price {quantity} is not greater than or equal to zero!!\"\n",
        "      \n",
        "      #assigning to self object\n",
        "      self.name= xyzname \n",
        "      self.price = price\n",
        "      self.quantity = quantity\n",
        "  # python passes the object or the instance itselt as first arg when u call this methods\n",
        "  \n",
        "  #function inside a class area called methods\n",
        "  def mycalculator(self):\n",
        "      return self.price*self.quantity\n",
        "\n",
        "  \n",
        "  def apply_discount(self):\n",
        "    self.price=self.price * self.pay_rate ##overwrited an instace's atribute\n",
        "\n",
        "\n",
        "#This is equilivant  of creation an intance of a class named as \"MyClass\"\n",
        "\n",
        "newInstance = MyClass(\"Phone\",100,1)\n",
        "newInstance2 = MyClass(\"Laptop\",1000,3)\n",
        "\n",
        "newInstance.apply_discount() #reads payrate from class lv\n",
        "print(newInstance.price)\n",
        "\n",
        "newInstance2.pay_rate=0.7 #Overwwrites this at instance lv\n",
        "newInstance2.apply_discount()\n",
        "print(newInstance2.price)\n",
        "\n"
      ],
      "metadata": {
        "colab": {
          "base_uri": "https://localhost:8080/"
        },
        "outputId": "3afa773c-bc21-4748-ebd2-77394ea3d998",
        "id": "LEbmIkl86cCG"
      },
      "execution_count": 84,
      "outputs": [
        {
          "output_type": "stream",
          "name": "stdout",
          "text": [
            "80.0\n",
            "700.0\n"
          ]
        }
      ]
    },
    {
      "cell_type": "markdown",
      "source": [
        "##Saving all instance during creation "
      ],
      "metadata": {
        "id": "iXNfD6E-v4AZ"
      }
    },
    {
      "cell_type": "code",
      "source": [
        " \"\"\"\n",
        " A class attribute that is going to belong to a class itself,\n",
        " but however ,we can also access this attribute from the \n",
        " instance level only!!\n",
        "\"\"\"\n",
        "\n",
        "class MyClass:\n",
        "\n",
        "  #Global attribute creation.\n",
        "  pay_rate=0.8  # This is a class attribute always  create it in first line afterward below class keyword\n",
        "  all=[]\n",
        "  def __init__(self, xyzname: str, price: float,quantity=0): #a constructor that run automatically everytime when an intsance of class get created.\n",
        "      #Run validation to received argument\n",
        "      assert price >=0,f\"price {price} is not greater than equal to zero!!\"\n",
        "      assert quantity >=0,f\"price {quantity} is not greater than or equal to zero!!\"\n",
        "      \n",
        "      #assigning to self object\n",
        "      self.name= xyzname \n",
        "      self.price = price\n",
        "      self.quantity = quantity\n",
        "\n",
        "      #saving instance\n",
        "      MyClass.all.append(self)\n",
        "  \n",
        "  # python passes the object or the instance itselt as first arg when u call this methods\n",
        "  #self is the instance itself\n",
        "  #function inside a class area called methods\n",
        "\n",
        "  def mycalculator(self):\n",
        "      return self.price*self.quantity\n",
        "\n",
        "  \n",
        "  def apply_discount(self):\n",
        "    self.price=self.price * self.pay_rate ##overwrited an instace's atribute\n",
        "\n",
        "\n",
        "#This is equilivant  of creation an intance of a class named as \"MyClass\"\n",
        "\n",
        "newInstance1 = MyClass(\"Phone\",100,1)\n",
        "newInstance2 = MyClass(\"Laptop\",1000,3)\n",
        "newInstance3 = MyClass(\"Cabel\",10,5)\n",
        "newInstance4 = MyClass(\"Mouse\",50,5)\n",
        "newInstance5 = MyClass(\"Keyboard\",75,5)\n",
        "\n",
        "print(MyClass.all)\n",
        "\n",
        "for i in MyClass.all:\n",
        "  print(i.name)"
      ],
      "metadata": {
        "colab": {
          "base_uri": "https://localhost:8080/"
        },
        "id": "777SguvSv6LV",
        "outputId": "191e102c-b8ff-49b3-e085-14bc7d4b5912"
      },
      "execution_count": 85,
      "outputs": [
        {
          "output_type": "stream",
          "name": "stdout",
          "text": [
            "[<__main__.MyClass object at 0x7fb9add4f790>, <__main__.MyClass object at 0x7fb9add4f850>, <__main__.MyClass object at 0x7fb9add4f890>, <__main__.MyClass object at 0x7fb9add59390>, <__main__.MyClass object at 0x7fb9add4f8d0>]\n",
            "Phone\n",
            "Laptop\n",
            "Cabel\n",
            "Mouse\n",
            "Keyboard\n"
          ]
        }
      ]
    },
    {
      "cell_type": "markdown",
      "source": [
        "##Formate returned saved instances."
      ],
      "metadata": {
        "id": "0uybHwHb0ZMC"
      }
    },
    {
      "cell_type": "code",
      "source": [
        " \"\"\"\n",
        " A class attribute that is going to belong to a class itself,\n",
        " but however ,we can also access this attribute from the \n",
        " instance level only!!\n",
        "\"\"\"\n",
        "\n",
        "class MyClass:\n",
        "\n",
        "  #Global attribute creation.\n",
        "  pay_rate=0.8  # This is a class attribute always  create it in first line afterward below class keyword\n",
        "  all=[]\n",
        "  def __init__(self, xyzname: str, price: float,quantity=0): #a constructor that run automatically everytime when an intsance of class get created.\n",
        "      #Run validation to received argument\n",
        "      assert price >=0,f\"price {price} is not greater than equal to zero!!\"\n",
        "      assert quantity >=0,f\"price {quantity} is not greater than or equal to zero!!\"\n",
        "      \n",
        "      #assigning to self object\n",
        "      self.name= xyzname \n",
        "      self.price = price\n",
        "      self.quantity = quantity\n",
        "\n",
        "      #saving instance\n",
        "      MyClass.all.append(self)\n",
        "  \n",
        "  # python passes the object or the instance itselt as first arg when u call this methods\n",
        "  #self is the instance itself\n",
        "  #function inside a class area called methods\n",
        "\n",
        "  def mycalculator(self):\n",
        "      return self.price*self.quantity\n",
        "\n",
        "  \n",
        "  def apply_discount(self):\n",
        "    self.price=self.price * self.pay_rate ##overwrited an instace's atribute\n",
        "\n",
        "  #using a magic method __repr__ represent ur object\n",
        "  #This returns a string ,it should be unique for each instance\n",
        "  def __repr__(self):\n",
        "    return f\"MyClass('{self.name}','{self.price}','{self.quantity}')\"\n",
        "\n",
        "\n",
        "\n",
        "#This is equilivant  of creation an intance of a class named as \"MyClass\"\n",
        "\n",
        "newInstance1 = MyClass(\"Phone\",100,1)\n",
        "newInstance2 = MyClass(\"Laptop\",1000,3)\n",
        "newInstance3 = MyClass(\"Cabel\",10,5)\n",
        "newInstance4 = MyClass(\"Mouse\",50,5)\n",
        "newInstance5 = MyClass(\"Keyboard\",75,5)\n",
        "\n",
        "print(MyClass.all)\n"
      ],
      "metadata": {
        "colab": {
          "base_uri": "https://localhost:8080/"
        },
        "id": "qM4Nh0G6yWqR",
        "outputId": "07b7bd1a-cf8d-4b92-918f-fb6d206ef1f5"
      },
      "execution_count": 86,
      "outputs": [
        {
          "output_type": "stream",
          "name": "stdout",
          "text": [
            "[MyClass('Phone','100','1'), MyClass('Laptop','1000','3'), MyClass('Cabel','10','5'), MyClass('Mouse','50','5'), MyClass('Keyboard','75','5')]\n"
          ]
        }
      ]
    },
    {
      "cell_type": "markdown",
      "source": [
        "#Class Method\n",
        "\n",
        "###@classmethod is used to declare a class method\n",
        "###We use this to create a class method for instantiating instances from some structured data\n",
        "\n",
        "###Passes the class object as first argument in the background when we call this method \n",
        "\n",
        "###the first argument \"cls\" receives the class reference in the method body."
      ],
      "metadata": {
        "id": "oWjUi0LG0oYB"
      }
    },
    {
      "cell_type": "code",
      "source": [
        "import csv\n",
        "#Can only be access from the class lv only\n",
        "class MyClass:\n",
        "\n",
        "  #Global attribute creation.\n",
        "  pay_rate=0.8  # This is a class attribute always  create it in first line afterward below class keyword\n",
        "  all=[]\n",
        "  def __init__(self, xyzname: str, price: float,quantity=0): #a constructor that run automatically everytime when an intsance of class get created.\n",
        "      #Run validation to received argument\n",
        "      assert price >=0,f\"price {price} is not greater than equal to zero!!\"\n",
        "      assert quantity >=0,f\"price {quantity} is not greater than or equal to zero!!\"\n",
        "      \n",
        "      #assigning to self object\n",
        "      self.name= xyzname \n",
        "      self.price = price\n",
        "      self.quantity = quantity\n",
        "\n",
        "      #saving instance\n",
        "      MyClass.all.append(self)\n",
        "  \n",
        "  # python passes the object or the instance itselt as first arg when u call this methods\n",
        "  #self is the instance itself\n",
        "  #function inside a class area called methods\n",
        "\n",
        "  def mycalculator(self):\n",
        "      return self.price*self.quantity\n",
        "\n",
        "  def apply_discount(self):\n",
        "    self.price=self.price * self.pay_rate ##overwrited an instace's atribute\n",
        "  \n",
        "  @classmethod #using decorator\n",
        "  def instantiate_from_csv(cls):#here class object is pass in \"CLS\"\n",
        "     with open(\"X.csv\",\"r\") as f:\n",
        "       reader=csv.DictReader(f)\n",
        "       items=list(reader)\n",
        "     for i in items:\n",
        "       MyClass(xyzname=  i.get('Name'),\n",
        "               price=    float(i.get('Price')),\n",
        "               quantity= int(i.get('Quantity')))\n",
        "\n",
        " #using a magic method __repr__ represent ur object\n",
        "  #This returns a string ,it should be unique for each instance\n",
        "  def __repr__(self):\n",
        "    return f\"MyClass('{self.name}','{self.price}','{self.quantity}')\"\n",
        "\n",
        "\n",
        "\n",
        "MyClass.instantiate_from_csv()\n",
        "print(MyClass.all)\n"
      ],
      "metadata": {
        "colab": {
          "base_uri": "https://localhost:8080/"
        },
        "id": "Re8J7jVh0Ri3",
        "outputId": "36e02bfe-f1ef-444a-d5ef-aff3f7355eea"
      },
      "execution_count": 87,
      "outputs": [
        {
          "output_type": "stream",
          "name": "stdout",
          "text": [
            "[MyClass('None','100.0','1'), MyClass('None','1000.0','3'), MyClass('None','10.0','5'), MyClass('None','50.0','5'), MyClass('None','75.0','5')]\n"
          ]
        }
      ]
    },
    {
      "cell_type": "markdown",
      "source": [
        "#Static method\n",
        "\n",
        "###@staticmethod is used to make a normal method in a class a \"static method\"\n",
        "\n",
        "###Doesnot take the instance in \"self\" ,here \"self\" is just a argument\n",
        "\n",
        "###This method has some logical connection to the class\n",
        "\n",
        "###We use static methos that is not unique to intances.\n"
      ],
      "metadata": {
        "id": "gyWRzY2atVv-"
      }
    },
    {
      "cell_type": "code",
      "source": [
        "import csv\n",
        "#Can only be access from the class lv only\n",
        "class MyClass:\n",
        "\n",
        "  #Global attribute creation.\n",
        "  pay_rate=0.8  # This is a class attribute always  create it in first line afterward below class keyword\n",
        "  all=[]\n",
        "  def __init__(self, xyzname: str, price: float,quantity=0): #a constructor that run automatically everytime when an intsance of class get created.\n",
        "      #Run validation to received argument\n",
        "      assert price >=0,f\"price {price} is not greater than equal to zero!!\"\n",
        "      assert quantity >=0,f\"price {quantity} is not greater than or equal to zero!!\"\n",
        "      \n",
        "      #assigning to self object\n",
        "      self.name= xyzname \n",
        "      self.price = price\n",
        "      self.quantity = quantity\n",
        "\n",
        "      #saving instance\n",
        "      MyClass.all.append(self)\n",
        "  \n",
        "  # python passes the object or the instance itselt as first arg when u call this methods\n",
        "  #self is the instance itself\n",
        "  #function inside a class area called methods\n",
        "\n",
        "  def mycalculator(self):\n",
        "      return self.price*self.quantity\n",
        "\n",
        "  def apply_discount(self):\n",
        "    self.price=self.price * self.pay_rate ##overwrited an instace's atribute\n",
        "  \n",
        "  @classmethod #using decorator\n",
        "  def instantiate_from_csv(cls):#here class object is pass in \"CLS\"\n",
        "     with open(\"X.csv\",\"r\") as f:\n",
        "       reader=csv.DictReader(f)\n",
        "       items=list(reader)\n",
        "     for i in items:\n",
        "       MyClass(xyzname=  i.get('Name'),\n",
        "               price=    float(i.get('Price')),\n",
        "               quantity= int(i.get('Quantity')))\n",
        "\n",
        " #using a magic method __repr__ represent ur object\n",
        "#This returns a string ,it should be unique for each instance\n",
        "  @staticmethod\n",
        "  def is_integer(num):\n",
        "    #we will count out the float that are pint zero\n",
        "    #Ex--> 1.0 ,10.0,3.0...\n",
        "    if isinstance(num,float):\n",
        "      return num.is_integer()\n",
        "    elif isinstance(num,int):\n",
        "      return True\n",
        "    else:\n",
        "      return False\n",
        "\n",
        "  def __repr__(self):\n",
        "    return f\"MyClass('{self.name}','{self.price}','{self.quantity}')\"\n",
        "\n",
        "\n",
        "\n",
        "MyClass.instantiate_from_csv()\n",
        "print(MyClass.all)\n",
        "\"\"\"item1=MyClass()\n",
        "  print(item1.is_integer(10))\"\"\"\n",
        "\n",
        "print(MyClass.is_integer(7.5))\n",
        "print(MyClass.is_integer(7.0))\n",
        "print(MyClass.is_integer(1.0))\n"
      ],
      "metadata": {
        "id": "_Y2okeOG3BXs",
        "colab": {
          "base_uri": "https://localhost:8080/"
        },
        "outputId": "f1a6f0d0-36a0-445a-8cbe-d8f43bd359c3"
      },
      "execution_count": 88,
      "outputs": [
        {
          "output_type": "stream",
          "name": "stdout",
          "text": [
            "[MyClass('None','100.0','1'), MyClass('None','1000.0','3'), MyClass('None','10.0','5'), MyClass('None','50.0','5'), MyClass('None','75.0','5')]\n",
            "False\n",
            "True\n",
            "True\n"
          ]
        }
      ]
    },
    {
      "cell_type": "markdown",
      "source": [
        "#**Inheritance**"
      ],
      "metadata": {
        "id": "L_I_ykbjzvlg"
      }
    },
    {
      "cell_type": "code",
      "source": [
        "import csv\n",
        "#Can only be access from the class lv only\n",
        "class MyClass:\n",
        "\n",
        "  #Global attribute creation.\n",
        "  pay_rate=0.8  # This is a class attribute always  create it in first line afterward below class keyword\n",
        "  all=[]\n",
        "  def __init__(self, xyzname: str, price: float,quantity=0): #a constructor that run automatically everytime when an intsance of class get created.\n",
        "      #Run validation to received argument\n",
        "      assert price >=0,f\"price {price} is not greater than equal to zero!!\"\n",
        "      assert quantity >=0,f\"price {quantity} is not greater than or equal to zero!!\"\n",
        "      \n",
        "      #assigning to self object\n",
        "      self.name= xyzname \n",
        "      self.price = price\n",
        "      self.quantity = quantity\n",
        "\n",
        "      #saving instance\n",
        "      MyClass.all.append(self)\n",
        "  \n",
        "  # python passes the object or the instance itselt as first arg when u call this methods\n",
        "  #self is the instance itself\n",
        "  #function inside a class area called methods\n",
        "\n",
        "  def mycalculator(self):\n",
        "      return self.price*self.quantity\n",
        "\n",
        "  def apply_discount(self):\n",
        "    self.price=self.price * self.pay_rate ##overwrited an instace's atribute\n",
        "  \n",
        "  @classmethod #using decorator\n",
        "  def instantiate_from_csv(cls):#here class object is pass in \"CLS\"\n",
        "     with open(\"X.csv\",\"r\") as f:\n",
        "       reader=csv.DictReader(f)\n",
        "       items=list(reader)\n",
        "     for i in items:\n",
        "       MyClass(xyzname=  i.get('Name'),\n",
        "               price=    float(i.get('Price')),\n",
        "               quantity= int(i.get('Quantity')))\n",
        "\n",
        " #using a magic method __repr__ represent ur object\n",
        "#This returns a string ,it should be unique for each instance\n",
        "  @staticmethod\n",
        "  def is_integer(num):\n",
        "    #we will count out the float that are pint zero\n",
        "    #Ex--> 1.0 ,10.0,3.0...\n",
        "    if isinstance(num,float):\n",
        "      return num.is_integer()\n",
        "    elif isinstance(num,int):\n",
        "      return True\n",
        "    else:\n",
        "      return False\n",
        "\n",
        "  def __repr__(self):\n",
        "    return f\"{self.__class__.__name__}('{self.name}','{self.price}','{self.quantity}')\"\n",
        "\n",
        "\n",
        "class Phone(MyClass):\n",
        "  #super function calls the \"init contructor\" in the parent class\n",
        "\n",
        "\n",
        "  def __init__(self, xyzname: str, price: float,quantity=0,newAtri=0): #a constructor that run automatically everytime when an intsance of class get created.\n",
        "    \n",
        "    #Call to supper funtion to gain access to all feature of parent class\n",
        "    super().__init__(\n",
        "        xyzname,price,quantity\n",
        "        )\n",
        "    \n",
        "    assert newAtri >=0,f\"price {newAtri} is not greater than or equal to zero!!\"\n",
        "\n",
        "    self.newAtri = newAtri\n",
        "      \n",
        "\n",
        "phone1=Phone(\"sony\",1000,50,1) \n",
        "\n",
        "#phone2=Phone(\"Iphone\",10000,2,1)\n",
        "print(phone1.mycalculator())\n",
        "\n",
        "print(MyClass.all)\n",
        "print(Phone.all)\n"
      ],
      "metadata": {
        "id": "nH80j0bKs1PE",
        "colab": {
          "base_uri": "https://localhost:8080/"
        },
        "outputId": "02eed008-9b9e-4d06-d851-5e787d4cfead"
      },
      "execution_count": 89,
      "outputs": [
        {
          "output_type": "stream",
          "name": "stdout",
          "text": [
            "50000\n",
            "[Phone('sony','1000','50')]\n",
            "[Phone('sony','1000','50')]\n"
          ]
        }
      ]
    },
    {
      "cell_type": "markdown",
      "source": [
        "#**Encapsulation**"
      ],
      "metadata": {
        "id": "MVJFl0-WzldU"
      }
    },
    {
      "cell_type": "code",
      "source": [
        "import csv\n",
        "#Can only be access from the class lv only\n",
        "class MyClass:\n",
        "\n",
        "  #Global attribute creation.\n",
        "  pay_rate=0.8  # This is a class attribute always  create it in first line afterward below class keyword\n",
        "  all=[]\n",
        "  def __init__(self, xyzname: str, price: float,quantity=0): #a constructor that run automatically everytime when an intsance of class get created.\n",
        "      #Run validation to received argument\n",
        "      assert price >=0,f\"price {price} is not greater than equal to zero!!\"\n",
        "      assert quantity >=0,f\"price {quantity} is not greater than or equal to zero!!\"\n",
        "      \n",
        "      #assigning to self object\n",
        "      self.__name= xyzname  # \"__\" before a variable makes it private attribute\n",
        "      self.price = price\n",
        "      self.quantity = quantity\n",
        "\n",
        "      #saving instance\n",
        "      MyClass.all.append(self)\n",
        "\n",
        "\n",
        "  @property\n",
        "  def name(self): #read_only is now an attribute or property\n",
        "    return self.__name\n",
        "  \n",
        "  # python passes the object or the instance itselt as first arg when u call this methods\n",
        "  #self is the instance itself\n",
        "  #function inside a class area called methods\n",
        "\n",
        "  def mycalculator(self):\n",
        "      return self.price*self.quantity\n",
        "\n",
        "  def apply_discount(self):\n",
        "    self.price=self.price * self.pay_rate ##overwrited an instace's atribute\n",
        "  \n",
        "  @classmethod #using decorator\n",
        "  def instantiate_from_csv(cls):#here class object is pass in \"CLS\"\n",
        "     with open(\"X.csv\",\"r\") as f:\n",
        "       reader=csv.DictReader(f)\n",
        "       items=list(reader)\n",
        "     for i in items:\n",
        "       MyClass(xyzname=  i.get('Name'),\n",
        "               price=    float(i.get('Price')),\n",
        "               quantity= int(i.get('Quantity')))\n",
        "\n",
        " #using a magic method __repr__ represent ur object\n",
        "#This returns a string ,it should be unique for each instance\n",
        "  @staticmethod\n",
        "  def is_integer(num):\n",
        "    #we will count out the float that are pint zero\n",
        "    #Ex--> 1.0 ,10.0,3.0...\n",
        "    if isinstance(num,float):\n",
        "      return num.is_integer()\n",
        "    elif isinstance(num,int):\n",
        "      return True\n",
        "    else:\n",
        "      return False\n",
        "\n",
        "  def __repr__(self):\n",
        "    return f\"{self.__class__.__name__}('{self.name}','{self.price}','{self.quantity}')\"\n",
        "\n",
        "  @property\n",
        "  def read_only(self): #read_only is now an attribute or property\n",
        "    return \"you cannot change me!!\"\n",
        "\n",
        "\n",
        "item1=MyClass(\"somevalue\",10)\n",
        "print(item1.name)\n",
        "print(item1.name)\n",
        "\n",
        "#item1.name=\"updating it maybe?\"\n",
        "\n"
      ],
      "metadata": {
        "id": "ciQn3itVznwh",
        "colab": {
          "base_uri": "https://localhost:8080/"
        },
        "outputId": "c1a0d1e8-588a-4985-97c1-dca79928d7f4"
      },
      "execution_count": 90,
      "outputs": [
        {
          "output_type": "stream",
          "name": "stdout",
          "text": [
            "somevalue\n",
            "somevalue\n"
          ]
        }
      ]
    },
    {
      "cell_type": "markdown",
      "source": [
        "#**Getter and Setter**"
      ],
      "metadata": {
        "id": "C-tTu8GXw_Ej"
      }
    },
    {
      "cell_type": "code",
      "source": [
        "import csv\n",
        "#Can only be access from the class lv only\n",
        "class MyClass:\n",
        "\n",
        "  #Global attribute creation.\n",
        "  pay_rate=0.8  # This is a class attribute always  create it in first line afterward below class keyword\n",
        "  all=[]\n",
        "  def __init__(self, xyzname: str, price: float,quantity=0): #a constructor that run automatically everytime when an intsance of class get created.\n",
        "      #Run validation to received argument\n",
        "      assert price >=0,f\"price {price} is not greater than equal to zero!!\"\n",
        "      assert quantity >=0,f\"price {quantity} is not greater than or equal to zero!!\"\n",
        "      \n",
        "      #assigning to self object\n",
        "      self.__name= xyzname  # \"__\" before a variable makes it private attribute\n",
        "      self.__price = price\n",
        "      self.quantity = quantity\n",
        "\n",
        "      #saving instance\n",
        "      MyClass.all.append(self)\n",
        "\n",
        "\n",
        "    \n",
        "  #This is \"Getter Method\",this always receive a \"parameter\"\n",
        "  @property            #Extraction\n",
        "  def name(self): #read_only is now an attribute or property\n",
        "    return self.__name\n",
        " \n",
        "  #This is \"Setter Method\"\n",
        "  @name.setter\n",
        "  def name(self,value):  #Encapsulation\n",
        "    if len(value)>10:\n",
        "      raise Exception(\"Name too long\")\n",
        "    else:\n",
        "      self.__name=value\n",
        "  \n",
        "\n",
        "\n",
        "  # python passes the object or the instance itselt as first arg when u call this methods\n",
        "  #self is the instance itself\n",
        "  #function inside a class area called methods\n",
        "\n",
        "  def mycalculator(self):\n",
        "      return self.__price*self.quantity\n",
        "\n",
        "  def apply_discount(self):\n",
        "    self.__price=self.__price * self.pay_rate ##overwrited an instace's atribute\n",
        "  \n",
        "  @classmethod #using decorator\n",
        "  def instantiate_from_csv(cls):#here class object is pass in \"CLS\"\n",
        "     with open(\"X.csv\",\"r\") as f:\n",
        "       reader=csv.DictReader(f)\n",
        "       items=list(reader)\n",
        "     for i in items:\n",
        "       MyClass(xyzname=  i.get('Name'),\n",
        "               price=    float(i.get('Price')),\n",
        "               quantity= int(i.get('Quantity')))\n",
        "\n",
        " #using a magic method __repr__ represent ur object\n",
        "#This returns a string ,it should be unique for each instance\n",
        "  @staticmethod\n",
        "  def is_integer(num):\n",
        "    #we will count out the float that are pint zero\n",
        "    #Ex--> 1.0 ,10.0,3.0...\n",
        "    if isinstance(num,float):\n",
        "      return num.is_integer()\n",
        "    elif isinstance(num,int):\n",
        "      return True\n",
        "    else:\n",
        "      return False\n",
        "\n",
        "  def __repr__(self):\n",
        "    return f\"{self.__class__.__name__}('{self.name}','{self.price}','{self.quantity}')\"\n",
        "\n",
        "  \n",
        "  @property\n",
        "  def read_only(self): #read_only is now an attribute or property\n",
        "    return \"you cannot change me!!\"\n",
        "\n",
        "\n",
        "\n",
        "\n",
        "item1=MyClass(\"somevalue\",10)\n",
        "print(item1.name)\n",
        "\n",
        "item1.name=\"ShortValue\" #This new value is pass as \"Argument to setter function\"\n",
        "print(item1.name)\n",
        "\n"
      ],
      "metadata": {
        "id": "QtDPjuPKxFV3",
        "colab": {
          "base_uri": "https://localhost:8080/"
        },
        "outputId": "eb1b4b6e-e2a5-42d4-fe6f-ce52526d0d20"
      },
      "execution_count": 91,
      "outputs": [
        {
          "output_type": "stream",
          "name": "stdout",
          "text": [
            "somevalue\n",
            "ShortValue\n"
          ]
        }
      ]
    }
  ]
}